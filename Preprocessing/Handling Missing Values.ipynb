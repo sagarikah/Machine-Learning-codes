{
 "cells": [
  {
   "cell_type": "code",
   "execution_count": 1,
   "id": "cc89f904",
   "metadata": {},
   "outputs": [],
   "source": [
    "import numpy as np\n",
    "import pandas as pd"
   ]
  },
  {
   "cell_type": "markdown",
   "id": "a0810f51",
   "metadata": {},
   "source": [
    "# 1. Missing Categorical Values"
   ]
  },
  {
   "cell_type": "code",
   "execution_count": 2,
   "id": "e971c2c5",
   "metadata": {},
   "outputs": [],
   "source": [
    "adult = pd.read_csv(\"adult_train.csv\", usecols=['workclass','occupation','native.country','target'])"
   ]
  },
  {
   "cell_type": "code",
   "execution_count": 3,
   "id": "35539054",
   "metadata": {},
   "outputs": [
    {
     "data": {
      "text/plain": [
       "(32561, 4)"
      ]
     },
     "execution_count": 3,
     "metadata": {},
     "output_type": "execute_result"
    }
   ],
   "source": [
    "adult.shape"
   ]
  },
  {
   "cell_type": "code",
   "execution_count": 4,
   "id": "5540c1bc",
   "metadata": {},
   "outputs": [
    {
     "data": {
      "text/html": [
       "<div>\n",
       "<style scoped>\n",
       "    .dataframe tbody tr th:only-of-type {\n",
       "        vertical-align: middle;\n",
       "    }\n",
       "\n",
       "    .dataframe tbody tr th {\n",
       "        vertical-align: top;\n",
       "    }\n",
       "\n",
       "    .dataframe thead th {\n",
       "        text-align: right;\n",
       "    }\n",
       "</style>\n",
       "<table border=\"1\" class=\"dataframe\">\n",
       "  <thead>\n",
       "    <tr style=\"text-align: right;\">\n",
       "      <th></th>\n",
       "      <th>workclass</th>\n",
       "      <th>occupation</th>\n",
       "      <th>native.country</th>\n",
       "      <th>target</th>\n",
       "    </tr>\n",
       "  </thead>\n",
       "  <tbody>\n",
       "    <tr>\n",
       "      <th>7227</th>\n",
       "      <td>Private</td>\n",
       "      <td>Machine-op-inspct</td>\n",
       "      <td>United-States</td>\n",
       "      <td>&lt;=50K</td>\n",
       "    </tr>\n",
       "    <tr>\n",
       "      <th>21990</th>\n",
       "      <td>Private</td>\n",
       "      <td>Prof-specialty</td>\n",
       "      <td>United-States</td>\n",
       "      <td>&lt;=50K</td>\n",
       "    </tr>\n",
       "    <tr>\n",
       "      <th>28759</th>\n",
       "      <td>Self-emp-not-inc</td>\n",
       "      <td>Machine-op-inspct</td>\n",
       "      <td>United-States</td>\n",
       "      <td>&gt;50K</td>\n",
       "    </tr>\n",
       "    <tr>\n",
       "      <th>14012</th>\n",
       "      <td>Private</td>\n",
       "      <td>Adm-clerical</td>\n",
       "      <td>United-States</td>\n",
       "      <td>&gt;50K</td>\n",
       "    </tr>\n",
       "    <tr>\n",
       "      <th>17757</th>\n",
       "      <td>NaN</td>\n",
       "      <td>NaN</td>\n",
       "      <td>United-States</td>\n",
       "      <td>&gt;50K</td>\n",
       "    </tr>\n",
       "  </tbody>\n",
       "</table>\n",
       "</div>"
      ],
      "text/plain": [
       "               workclass          occupation  native.country  target\n",
       "7227             Private   Machine-op-inspct   United-States   <=50K\n",
       "21990            Private      Prof-specialty   United-States   <=50K\n",
       "28759   Self-emp-not-inc   Machine-op-inspct   United-States    >50K\n",
       "14012            Private        Adm-clerical   United-States    >50K\n",
       "17757                NaN                 NaN   United-States    >50K"
      ]
     },
     "execution_count": 4,
     "metadata": {},
     "output_type": "execute_result"
    }
   ],
   "source": [
    "adult.sample(5)"
   ]
  },
  {
   "cell_type": "code",
   "execution_count": 5,
   "id": "5e731e76",
   "metadata": {},
   "outputs": [
    {
     "data": {
      "text/plain": [
       "workclass         1836\n",
       "occupation        1843\n",
       "native.country     583\n",
       "target               0\n",
       "dtype: int64"
      ]
     },
     "execution_count": 5,
     "metadata": {},
     "output_type": "execute_result"
    }
   ],
   "source": [
    "adult.isnull().sum()"
   ]
  },
  {
   "cell_type": "code",
   "execution_count": 6,
   "id": "a8781ce3",
   "metadata": {},
   "outputs": [],
   "source": [
    "X = adult[['workclass', 'occupation', 'native.country']]\n",
    "y = adult['target']"
   ]
  },
  {
   "cell_type": "code",
   "execution_count": 7,
   "id": "95c16f9f",
   "metadata": {},
   "outputs": [
    {
     "data": {
      "text/html": [
       "<div>\n",
       "<style scoped>\n",
       "    .dataframe tbody tr th:only-of-type {\n",
       "        vertical-align: middle;\n",
       "    }\n",
       "\n",
       "    .dataframe tbody tr th {\n",
       "        vertical-align: top;\n",
       "    }\n",
       "\n",
       "    .dataframe thead th {\n",
       "        text-align: right;\n",
       "    }\n",
       "</style>\n",
       "<table border=\"1\" class=\"dataframe\">\n",
       "  <thead>\n",
       "    <tr style=\"text-align: right;\">\n",
       "      <th></th>\n",
       "      <th>workclass</th>\n",
       "      <th>occupation</th>\n",
       "      <th>native.country</th>\n",
       "    </tr>\n",
       "  </thead>\n",
       "  <tbody>\n",
       "    <tr>\n",
       "      <th>0</th>\n",
       "      <td>State-gov</td>\n",
       "      <td>Adm-clerical</td>\n",
       "      <td>United-States</td>\n",
       "    </tr>\n",
       "    <tr>\n",
       "      <th>1</th>\n",
       "      <td>Self-emp-not-inc</td>\n",
       "      <td>Exec-managerial</td>\n",
       "      <td>United-States</td>\n",
       "    </tr>\n",
       "    <tr>\n",
       "      <th>2</th>\n",
       "      <td>Private</td>\n",
       "      <td>Handlers-cleaners</td>\n",
       "      <td>United-States</td>\n",
       "    </tr>\n",
       "    <tr>\n",
       "      <th>3</th>\n",
       "      <td>Private</td>\n",
       "      <td>Handlers-cleaners</td>\n",
       "      <td>United-States</td>\n",
       "    </tr>\n",
       "    <tr>\n",
       "      <th>4</th>\n",
       "      <td>Private</td>\n",
       "      <td>Prof-specialty</td>\n",
       "      <td>Cuba</td>\n",
       "    </tr>\n",
       "    <tr>\n",
       "      <th>...</th>\n",
       "      <td>...</td>\n",
       "      <td>...</td>\n",
       "      <td>...</td>\n",
       "    </tr>\n",
       "    <tr>\n",
       "      <th>32556</th>\n",
       "      <td>Private</td>\n",
       "      <td>Tech-support</td>\n",
       "      <td>United-States</td>\n",
       "    </tr>\n",
       "    <tr>\n",
       "      <th>32557</th>\n",
       "      <td>Private</td>\n",
       "      <td>Machine-op-inspct</td>\n",
       "      <td>United-States</td>\n",
       "    </tr>\n",
       "    <tr>\n",
       "      <th>32558</th>\n",
       "      <td>Private</td>\n",
       "      <td>Adm-clerical</td>\n",
       "      <td>United-States</td>\n",
       "    </tr>\n",
       "    <tr>\n",
       "      <th>32559</th>\n",
       "      <td>Private</td>\n",
       "      <td>Adm-clerical</td>\n",
       "      <td>United-States</td>\n",
       "    </tr>\n",
       "    <tr>\n",
       "      <th>32560</th>\n",
       "      <td>Self-emp-inc</td>\n",
       "      <td>Exec-managerial</td>\n",
       "      <td>United-States</td>\n",
       "    </tr>\n",
       "  </tbody>\n",
       "</table>\n",
       "<p>32561 rows × 3 columns</p>\n",
       "</div>"
      ],
      "text/plain": [
       "               workclass          occupation  native.country\n",
       "0              State-gov        Adm-clerical   United-States\n",
       "1       Self-emp-not-inc     Exec-managerial   United-States\n",
       "2                Private   Handlers-cleaners   United-States\n",
       "3                Private   Handlers-cleaners   United-States\n",
       "4                Private      Prof-specialty            Cuba\n",
       "...                  ...                 ...             ...\n",
       "32556            Private        Tech-support   United-States\n",
       "32557            Private   Machine-op-inspct   United-States\n",
       "32558            Private        Adm-clerical   United-States\n",
       "32559            Private        Adm-clerical   United-States\n",
       "32560       Self-emp-inc     Exec-managerial   United-States\n",
       "\n",
       "[32561 rows x 3 columns]"
      ]
     },
     "execution_count": 7,
     "metadata": {},
     "output_type": "execute_result"
    }
   ],
   "source": [
    "X"
   ]
  },
  {
   "cell_type": "code",
   "execution_count": 8,
   "id": "cf79a61b",
   "metadata": {},
   "outputs": [
    {
     "data": {
      "text/plain": [
       "0         <=50K\n",
       "1         <=50K\n",
       "2         <=50K\n",
       "3         <=50K\n",
       "4         <=50K\n",
       "          ...  \n",
       "32556     <=50K\n",
       "32557      >50K\n",
       "32558     <=50K\n",
       "32559     <=50K\n",
       "32560      >50K\n",
       "Name: target, Length: 32561, dtype: object"
      ]
     },
     "execution_count": 8,
     "metadata": {},
     "output_type": "execute_result"
    }
   ],
   "source": [
    "y"
   ]
  },
  {
   "cell_type": "code",
   "execution_count": 9,
   "id": "48c2b484",
   "metadata": {},
   "outputs": [],
   "source": [
    "from sklearn.model_selection import train_test_split\n",
    "\n",
    "X_train, X_test, y_train, y_test = train_test_split( X, y, train_size = 0.8, random_state = 4)"
   ]
  },
  {
   "cell_type": "markdown",
   "id": "1b0d5641",
   "metadata": {},
   "source": [
    "#   a. Mode Imputation"
   ]
  },
  {
   "cell_type": "code",
   "execution_count": 10,
   "id": "cb6657d8",
   "metadata": {},
   "outputs": [],
   "source": [
    "from sklearn.impute import SimpleImputer"
   ]
  },
  {
   "cell_type": "code",
   "execution_count": 11,
   "id": "9687f3b3",
   "metadata": {},
   "outputs": [],
   "source": [
    "si = SimpleImputer(strategy='most_frequent')      # mode = most frequent value\n",
    "                                                  # fills the missing values with mode of that column"
   ]
  },
  {
   "cell_type": "code",
   "execution_count": 12,
   "id": "dda1c372",
   "metadata": {},
   "outputs": [],
   "source": [
    "X_train = si.fit_transform(X_train)\n",
    "X_test = si.transform(X_test)"
   ]
  },
  {
   "cell_type": "code",
   "execution_count": 13,
   "id": "5b55d550",
   "metadata": {},
   "outputs": [
    {
     "data": {
      "text/plain": [
       "array([' Private', ' Craft-repair', ' United-States'], dtype=object)"
      ]
     },
     "execution_count": 13,
     "metadata": {},
     "output_type": "execute_result"
    }
   ],
   "source": [
    "si.statistics_           # prints the value used to fill missing columns"
   ]
  },
  {
   "cell_type": "code",
   "execution_count": 14,
   "id": "8cafb220",
   "metadata": {},
   "outputs": [
    {
     "data": {
      "text/plain": [
       "array([[' Private', ' Exec-managerial', ' United-States'],\n",
       "       [' Private', ' Other-service', ' United-States'],\n",
       "       [' Private', ' Other-service', ' United-States'],\n",
       "       ...,\n",
       "       [' Private', ' Adm-clerical', ' United-States'],\n",
       "       [' Private', ' Prof-specialty', ' United-States'],\n",
       "       [' Private', ' Other-service', ' United-States']], dtype=object)"
      ]
     },
     "execution_count": 14,
     "metadata": {},
     "output_type": "execute_result"
    }
   ],
   "source": [
    "X_train"
   ]
  },
  {
   "cell_type": "code",
   "execution_count": 15,
   "id": "dde3c32f",
   "metadata": {},
   "outputs": [
    {
     "data": {
      "text/plain": [
       "array([[' Private', ' Transport-moving', ' United-States'],\n",
       "       [' Private', ' Craft-repair', ' United-States'],\n",
       "       [' Local-gov', ' Exec-managerial', ' United-States'],\n",
       "       ...,\n",
       "       [' Private', ' Machine-op-inspct', ' United-States'],\n",
       "       [' Private', ' Handlers-cleaners', ' United-States'],\n",
       "       [' Private', ' Other-service', ' United-States']], dtype=object)"
      ]
     },
     "execution_count": 15,
     "metadata": {},
     "output_type": "execute_result"
    }
   ],
   "source": [
    "X_test"
   ]
  },
  {
   "cell_type": "code",
   "execution_count": 16,
   "id": "ff2244d7",
   "metadata": {},
   "outputs": [
    {
     "data": {
      "text/plain": [
       "31674      >50K\n",
       "19303     <=50K\n",
       "5535      <=50K\n",
       "8693      <=50K\n",
       "14777     <=50K\n",
       "          ...  \n",
       "22401     <=50K\n",
       "17093     <=50K\n",
       "27063     <=50K\n",
       "8366       >50K\n",
       "17530     <=50K\n",
       "Name: target, Length: 26048, dtype: object"
      ]
     },
     "execution_count": 16,
     "metadata": {},
     "output_type": "execute_result"
    }
   ],
   "source": [
    "y_train"
   ]
  },
  {
   "cell_type": "code",
   "execution_count": 17,
   "id": "37d84dec",
   "metadata": {},
   "outputs": [
    {
     "data": {
      "text/plain": [
       "28762     <=50K\n",
       "4823      <=50K\n",
       "3106       >50K\n",
       "11293     <=50K\n",
       "7008      <=50K\n",
       "          ...  \n",
       "19894     <=50K\n",
       "31986      >50K\n",
       "21968     <=50K\n",
       "28263     <=50K\n",
       "32398     <=50K\n",
       "Name: target, Length: 6513, dtype: object"
      ]
     },
     "execution_count": 17,
     "metadata": {},
     "output_type": "execute_result"
    }
   ],
   "source": [
    "y_test"
   ]
  },
  {
   "cell_type": "markdown",
   "id": "014a58d6",
   "metadata": {},
   "source": [
    "# b. Missing Category Imputation"
   ]
  },
  {
   "cell_type": "code",
   "execution_count": 18,
   "id": "1632b3f6",
   "metadata": {},
   "outputs": [],
   "source": [
    "si = SimpleImputer(strategy='constant', fill_value='Missing')     # fills the missing values with the word 'Missing'"
   ]
  },
  {
   "cell_type": "code",
   "execution_count": 19,
   "id": "90c8dc13",
   "metadata": {},
   "outputs": [],
   "source": [
    "X_train = si.fit_transform(X_train)\n",
    "X_test = si.transform(X_test)"
   ]
  },
  {
   "cell_type": "code",
   "execution_count": 20,
   "id": "4c22c6a3",
   "metadata": {},
   "outputs": [
    {
     "data": {
      "text/plain": [
       "array(['Missing', 'Missing', 'Missing'], dtype=object)"
      ]
     },
     "execution_count": 20,
     "metadata": {},
     "output_type": "execute_result"
    }
   ],
   "source": [
    "si.statistics_ "
   ]
  },
  {
   "cell_type": "markdown",
   "id": "8d52dcfe",
   "metadata": {},
   "source": [
    "# c. Missing Indicator"
   ]
  },
  {
   "cell_type": "code",
   "execution_count": 21,
   "id": "ff994f0a",
   "metadata": {},
   "outputs": [],
   "source": [
    "si = SimpleImputer(strategy='most_frequent', add_indicator= True)      # adds a new column which contains boolean value \n",
    "                                                                       # corresponding to the row.\n",
    "                                                                       # 'True' if value is missing \n",
    "                                                                       # 'False' if value is present"
   ]
  },
  {
   "cell_type": "code",
   "execution_count": 22,
   "id": "f5083b30",
   "metadata": {},
   "outputs": [],
   "source": [
    "X_train = si.fit_transform(X_train)\n",
    "X_test = si.transform(X_test)"
   ]
  },
  {
   "cell_type": "markdown",
   "id": "d3290234",
   "metadata": {},
   "source": [
    "# 2.  Missing Numeric Values\n"
   ]
  },
  {
   "cell_type": "code",
   "execution_count": 23,
   "id": "f2e37280",
   "metadata": {},
   "outputs": [],
   "source": [
    "housing = pd.read_csv(\"housing.csv\", usecols=['total_bedrooms','median_income','median_house_value'])"
   ]
  },
  {
   "cell_type": "code",
   "execution_count": 24,
   "id": "b9821b73",
   "metadata": {},
   "outputs": [
    {
     "data": {
      "text/plain": [
       "(20640, 3)"
      ]
     },
     "execution_count": 24,
     "metadata": {},
     "output_type": "execute_result"
    }
   ],
   "source": [
    "housing.shape"
   ]
  },
  {
   "cell_type": "code",
   "execution_count": 25,
   "id": "53835638",
   "metadata": {},
   "outputs": [
    {
     "data": {
      "text/html": [
       "<div>\n",
       "<style scoped>\n",
       "    .dataframe tbody tr th:only-of-type {\n",
       "        vertical-align: middle;\n",
       "    }\n",
       "\n",
       "    .dataframe tbody tr th {\n",
       "        vertical-align: top;\n",
       "    }\n",
       "\n",
       "    .dataframe thead th {\n",
       "        text-align: right;\n",
       "    }\n",
       "</style>\n",
       "<table border=\"1\" class=\"dataframe\">\n",
       "  <thead>\n",
       "    <tr style=\"text-align: right;\">\n",
       "      <th></th>\n",
       "      <th>total_bedrooms</th>\n",
       "      <th>median_income</th>\n",
       "      <th>median_house_value</th>\n",
       "    </tr>\n",
       "  </thead>\n",
       "  <tbody>\n",
       "    <tr>\n",
       "      <th>3974</th>\n",
       "      <td>142.0</td>\n",
       "      <td>5.6159</td>\n",
       "      <td>340500.0</td>\n",
       "    </tr>\n",
       "    <tr>\n",
       "      <th>6067</th>\n",
       "      <td>937.0</td>\n",
       "      <td>5.9716</td>\n",
       "      <td>262100.0</td>\n",
       "    </tr>\n",
       "    <tr>\n",
       "      <th>11805</th>\n",
       "      <td>1269.0</td>\n",
       "      <td>2.8194</td>\n",
       "      <td>111300.0</td>\n",
       "    </tr>\n",
       "    <tr>\n",
       "      <th>5597</th>\n",
       "      <td>135.0</td>\n",
       "      <td>1.3333</td>\n",
       "      <td>187500.0</td>\n",
       "    </tr>\n",
       "    <tr>\n",
       "      <th>13777</th>\n",
       "      <td>563.0</td>\n",
       "      <td>3.3365</td>\n",
       "      <td>122800.0</td>\n",
       "    </tr>\n",
       "  </tbody>\n",
       "</table>\n",
       "</div>"
      ],
      "text/plain": [
       "       total_bedrooms  median_income  median_house_value\n",
       "3974            142.0         5.6159            340500.0\n",
       "6067            937.0         5.9716            262100.0\n",
       "11805          1269.0         2.8194            111300.0\n",
       "5597            135.0         1.3333            187500.0\n",
       "13777           563.0         3.3365            122800.0"
      ]
     },
     "execution_count": 25,
     "metadata": {},
     "output_type": "execute_result"
    }
   ],
   "source": [
    "housing.sample(5)"
   ]
  },
  {
   "cell_type": "code",
   "execution_count": 26,
   "id": "b2fa3a26",
   "metadata": {},
   "outputs": [
    {
     "data": {
      "text/plain": [
       "total_bedrooms        207\n",
       "median_income           0\n",
       "median_house_value      0\n",
       "dtype: int64"
      ]
     },
     "execution_count": 26,
     "metadata": {},
     "output_type": "execute_result"
    }
   ],
   "source": [
    "housing.isnull().sum()"
   ]
  },
  {
   "cell_type": "code",
   "execution_count": 27,
   "id": "299a3249",
   "metadata": {},
   "outputs": [],
   "source": [
    "X = housing[['total_bedrooms','median_income']]\n",
    "y = housing['median_house_value']"
   ]
  },
  {
   "cell_type": "code",
   "execution_count": 28,
   "id": "a75b4138",
   "metadata": {},
   "outputs": [
    {
     "data": {
      "text/html": [
       "<div>\n",
       "<style scoped>\n",
       "    .dataframe tbody tr th:only-of-type {\n",
       "        vertical-align: middle;\n",
       "    }\n",
       "\n",
       "    .dataframe tbody tr th {\n",
       "        vertical-align: top;\n",
       "    }\n",
       "\n",
       "    .dataframe thead th {\n",
       "        text-align: right;\n",
       "    }\n",
       "</style>\n",
       "<table border=\"1\" class=\"dataframe\">\n",
       "  <thead>\n",
       "    <tr style=\"text-align: right;\">\n",
       "      <th></th>\n",
       "      <th>total_bedrooms</th>\n",
       "      <th>median_income</th>\n",
       "    </tr>\n",
       "  </thead>\n",
       "  <tbody>\n",
       "    <tr>\n",
       "      <th>0</th>\n",
       "      <td>129.0</td>\n",
       "      <td>8.3252</td>\n",
       "    </tr>\n",
       "    <tr>\n",
       "      <th>1</th>\n",
       "      <td>1106.0</td>\n",
       "      <td>8.3014</td>\n",
       "    </tr>\n",
       "    <tr>\n",
       "      <th>2</th>\n",
       "      <td>190.0</td>\n",
       "      <td>7.2574</td>\n",
       "    </tr>\n",
       "    <tr>\n",
       "      <th>3</th>\n",
       "      <td>235.0</td>\n",
       "      <td>5.6431</td>\n",
       "    </tr>\n",
       "    <tr>\n",
       "      <th>4</th>\n",
       "      <td>280.0</td>\n",
       "      <td>3.8462</td>\n",
       "    </tr>\n",
       "    <tr>\n",
       "      <th>...</th>\n",
       "      <td>...</td>\n",
       "      <td>...</td>\n",
       "    </tr>\n",
       "    <tr>\n",
       "      <th>20635</th>\n",
       "      <td>374.0</td>\n",
       "      <td>1.5603</td>\n",
       "    </tr>\n",
       "    <tr>\n",
       "      <th>20636</th>\n",
       "      <td>150.0</td>\n",
       "      <td>2.5568</td>\n",
       "    </tr>\n",
       "    <tr>\n",
       "      <th>20637</th>\n",
       "      <td>485.0</td>\n",
       "      <td>1.7000</td>\n",
       "    </tr>\n",
       "    <tr>\n",
       "      <th>20638</th>\n",
       "      <td>409.0</td>\n",
       "      <td>1.8672</td>\n",
       "    </tr>\n",
       "    <tr>\n",
       "      <th>20639</th>\n",
       "      <td>616.0</td>\n",
       "      <td>2.3886</td>\n",
       "    </tr>\n",
       "  </tbody>\n",
       "</table>\n",
       "<p>20640 rows × 2 columns</p>\n",
       "</div>"
      ],
      "text/plain": [
       "       total_bedrooms  median_income\n",
       "0               129.0         8.3252\n",
       "1              1106.0         8.3014\n",
       "2               190.0         7.2574\n",
       "3               235.0         5.6431\n",
       "4               280.0         3.8462\n",
       "...               ...            ...\n",
       "20635           374.0         1.5603\n",
       "20636           150.0         2.5568\n",
       "20637           485.0         1.7000\n",
       "20638           409.0         1.8672\n",
       "20639           616.0         2.3886\n",
       "\n",
       "[20640 rows x 2 columns]"
      ]
     },
     "execution_count": 28,
     "metadata": {},
     "output_type": "execute_result"
    }
   ],
   "source": [
    "X"
   ]
  },
  {
   "cell_type": "code",
   "execution_count": 29,
   "id": "821aef12",
   "metadata": {},
   "outputs": [
    {
     "data": {
      "text/plain": [
       "0        452600.0\n",
       "1        358500.0\n",
       "2        352100.0\n",
       "3        341300.0\n",
       "4        342200.0\n",
       "           ...   \n",
       "20635     78100.0\n",
       "20636     77100.0\n",
       "20637     92300.0\n",
       "20638     84700.0\n",
       "20639     89400.0\n",
       "Name: median_house_value, Length: 20640, dtype: float64"
      ]
     },
     "execution_count": 29,
     "metadata": {},
     "output_type": "execute_result"
    }
   ],
   "source": [
    "y"
   ]
  },
  {
   "cell_type": "code",
   "execution_count": 30,
   "id": "628aa688",
   "metadata": {},
   "outputs": [],
   "source": [
    "from sklearn.model_selection import train_test_split\n",
    "\n",
    "X_train, X_test, y_train, y_test = train_test_split( X, y, train_size = 0.8, random_state = 44)"
   ]
  },
  {
   "cell_type": "markdown",
   "id": "0a6b4543",
   "metadata": {},
   "source": [
    "# a. Mean/Median Imputation"
   ]
  },
  {
   "cell_type": "code",
   "execution_count": 31,
   "id": "4925d3d1",
   "metadata": {},
   "outputs": [],
   "source": [
    "from sklearn.impute import SimpleImputer"
   ]
  },
  {
   "cell_type": "code",
   "execution_count": 32,
   "id": "5cd5bb07",
   "metadata": {},
   "outputs": [],
   "source": [
    "imputer1 = SimpleImputer(strategy='mean')\n"
   ]
  },
  {
   "cell_type": "code",
   "execution_count": 33,
   "id": "f3fe4e23",
   "metadata": {},
   "outputs": [],
   "source": [
    "X_train = imputer1.fit_transform(X_train)\n",
    "X_test = imputer1.transform(X_test)"
   ]
  },
  {
   "cell_type": "code",
   "execution_count": 34,
   "id": "967ae0f7",
   "metadata": {},
   "outputs": [
    {
     "data": {
      "text/plain": [
       "array([537.24755322,   3.87753818])"
      ]
     },
     "execution_count": 34,
     "metadata": {},
     "output_type": "execute_result"
    }
   ],
   "source": [
    "imputer1.statistics_ "
   ]
  },
  {
   "cell_type": "code",
   "execution_count": 35,
   "id": "78450f26",
   "metadata": {},
   "outputs": [
    {
     "data": {
      "text/plain": [
       "array([[675.    ,   2.6618],\n",
       "       [372.    ,   3.9261],\n",
       "       [812.    ,   2.532 ],\n",
       "       ...,\n",
       "       [308.    ,   6.    ],\n",
       "       [264.    ,   5.1408],\n",
       "       [387.    ,   1.5517]])"
      ]
     },
     "execution_count": 35,
     "metadata": {},
     "output_type": "execute_result"
    }
   ],
   "source": [
    "X_train"
   ]
  },
  {
   "cell_type": "code",
   "execution_count": 36,
   "id": "43e52b38",
   "metadata": {},
   "outputs": [],
   "source": [
    "imputer2 = SimpleImputer(strategy='median')"
   ]
  },
  {
   "cell_type": "code",
   "execution_count": 37,
   "id": "4bf44152",
   "metadata": {},
   "outputs": [],
   "source": [
    "X_train = imputer2.fit_transform(X_train)\n",
    "X_test = imputer2.transform(X_test)"
   ]
  },
  {
   "cell_type": "code",
   "execution_count": 38,
   "id": "03451b7a",
   "metadata": {},
   "outputs": [
    {
     "data": {
      "text/plain": [
       "array([438.    ,   3.5391])"
      ]
     },
     "execution_count": 38,
     "metadata": {},
     "output_type": "execute_result"
    }
   ],
   "source": [
    "imputer2.statistics_ "
   ]
  },
  {
   "cell_type": "markdown",
   "id": "5d6ab9c8",
   "metadata": {},
   "source": [
    "# b. Arbitrary Value Imputation"
   ]
  },
  {
   "cell_type": "code",
   "execution_count": 39,
   "id": "e4c2c9b7",
   "metadata": {},
   "outputs": [],
   "source": [
    "imputer3 = SimpleImputer(strategy='constant',fill_value=-1)"
   ]
  },
  {
   "cell_type": "code",
   "execution_count": 40,
   "id": "2a815435",
   "metadata": {},
   "outputs": [],
   "source": [
    "X_train = imputer3.fit_transform(X_train)\n",
    "X_test = imputer3.transform(X_test)"
   ]
  },
  {
   "cell_type": "code",
   "execution_count": 41,
   "id": "5dbc084e",
   "metadata": {},
   "outputs": [
    {
     "data": {
      "text/plain": [
       "array([-1., -1.])"
      ]
     },
     "execution_count": 41,
     "metadata": {},
     "output_type": "execute_result"
    }
   ],
   "source": [
    "imputer3.statistics_ "
   ]
  },
  {
   "cell_type": "markdown",
   "id": "8788cd7f",
   "metadata": {},
   "source": [
    "# c. KNN Imputation"
   ]
  },
  {
   "cell_type": "code",
   "execution_count": 42,
   "id": "1061c63f",
   "metadata": {},
   "outputs": [],
   "source": [
    "from sklearn.impute import KNNImputer"
   ]
  },
  {
   "cell_type": "code",
   "execution_count": 43,
   "id": "19495781",
   "metadata": {},
   "outputs": [],
   "source": [
    "knn = KNNImputer(n_neighbors=3,weights='distance')"
   ]
  },
  {
   "cell_type": "code",
   "execution_count": 44,
   "id": "8253a782",
   "metadata": {},
   "outputs": [],
   "source": [
    "X_train = knn.fit_transform(X_train)\n",
    "X_test = knn.transform(X_test)"
   ]
  }
 ],
 "metadata": {
  "kernelspec": {
   "display_name": "Python 3",
   "language": "python",
   "name": "python3"
  },
  "language_info": {
   "codemirror_mode": {
    "name": "ipython",
    "version": 3
   },
   "file_extension": ".py",
   "mimetype": "text/x-python",
   "name": "python",
   "nbconvert_exporter": "python",
   "pygments_lexer": "ipython3",
   "version": "3.8.8"
  }
 },
 "nbformat": 4,
 "nbformat_minor": 5
}
