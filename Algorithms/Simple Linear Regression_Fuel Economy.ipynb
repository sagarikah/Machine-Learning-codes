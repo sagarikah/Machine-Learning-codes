{
 "cells": [
  {
   "cell_type": "code",
   "execution_count": 1,
   "id": "5bfda8cd",
   "metadata": {},
   "outputs": [],
   "source": [
    "import pandas as pd\n",
    "import numpy as np\n",
    "import matplotlib.pyplot as plt"
   ]
  },
  {
   "cell_type": "code",
   "execution_count": 2,
   "id": "a686b83e",
   "metadata": {},
   "outputs": [],
   "source": [
    "df = pd.read_csv('FuelEconomy.csv')"
   ]
  },
  {
   "cell_type": "code",
   "execution_count": 3,
   "id": "b847b83d",
   "metadata": {},
   "outputs": [
    {
     "data": {
      "text/html": [
       "<div>\n",
       "<style scoped>\n",
       "    .dataframe tbody tr th:only-of-type {\n",
       "        vertical-align: middle;\n",
       "    }\n",
       "\n",
       "    .dataframe tbody tr th {\n",
       "        vertical-align: top;\n",
       "    }\n",
       "\n",
       "    .dataframe thead th {\n",
       "        text-align: right;\n",
       "    }\n",
       "</style>\n",
       "<table border=\"1\" class=\"dataframe\">\n",
       "  <thead>\n",
       "    <tr style=\"text-align: right;\">\n",
       "      <th></th>\n",
       "      <th>Horsepower</th>\n",
       "      <th>Fuel Economy</th>\n",
       "    </tr>\n",
       "  </thead>\n",
       "  <tbody>\n",
       "    <tr>\n",
       "      <th>0</th>\n",
       "      <td>119</td>\n",
       "      <td>30</td>\n",
       "    </tr>\n",
       "    <tr>\n",
       "      <th>1</th>\n",
       "      <td>177</td>\n",
       "      <td>25</td>\n",
       "    </tr>\n",
       "    <tr>\n",
       "      <th>2</th>\n",
       "      <td>220</td>\n",
       "      <td>24</td>\n",
       "    </tr>\n",
       "    <tr>\n",
       "      <th>3</th>\n",
       "      <td>188</td>\n",
       "      <td>24</td>\n",
       "    </tr>\n",
       "    <tr>\n",
       "      <th>4</th>\n",
       "      <td>219</td>\n",
       "      <td>24</td>\n",
       "    </tr>\n",
       "  </tbody>\n",
       "</table>\n",
       "</div>"
      ],
      "text/plain": [
       "   Horsepower  Fuel Economy\n",
       "0         119            30\n",
       "1         177            25\n",
       "2         220            24\n",
       "3         188            24\n",
       "4         219            24"
      ]
     },
     "execution_count": 3,
     "metadata": {},
     "output_type": "execute_result"
    }
   ],
   "source": [
    "df.head()"
   ]
  },
  {
   "cell_type": "code",
   "execution_count": 4,
   "id": "4dbc3eb1",
   "metadata": {},
   "outputs": [
    {
     "data": {
      "image/png": "[encoded data removed]",
      "text/plain": [
       "<Figure size 432x288 with 1 Axes>"
      ]
     },
     "metadata": {
      "needs_background": "light"
     },
     "output_type": "display_data"
    }
   ],
   "source": [
    "# Plotting the data points\n",
    "\n",
    "plt.scatter(df['Horsepower'],df['Fuel Economy'])\n",
    "plt.xlabel('Horsepower')\n",
    "plt.ylabel('Fuel Economy')\n",
    "plt.show()"
   ]
  },
  {
   "cell_type": "code",
   "execution_count": 5,
   "id": "48e2c7d9",
   "metadata": {},
   "outputs": [],
   "source": [
    "# Assigning the input and ouput features\n",
    "\n",
    "X = df.iloc[:,0:1]    # input feature\n",
    "Y = df.iloc[:,-1]     # output feature"
   ]
  },
  {
   "cell_type": "code",
   "execution_count": 6,
   "id": "50d0bd14",
   "metadata": {},
   "outputs": [
    {
     "data": {
      "text/html": [
       "<div>\n",
       "<style scoped>\n",
       "    .dataframe tbody tr th:only-of-type {\n",
       "        vertical-align: middle;\n",
       "    }\n",
       "\n",
       "    .dataframe tbody tr th {\n",
       "        vertical-align: top;\n",
       "    }\n",
       "\n",
       "    .dataframe thead th {\n",
       "        text-align: right;\n",
       "    }\n",
       "</style>\n",
       "<table border=\"1\" class=\"dataframe\">\n",
       "  <thead>\n",
       "    <tr style=\"text-align: right;\">\n",
       "      <th></th>\n",
       "      <th>Horsepower</th>\n",
       "    </tr>\n",
       "  </thead>\n",
       "  <tbody>\n",
       "    <tr>\n",
       "      <th>0</th>\n",
       "      <td>119</td>\n",
       "    </tr>\n",
       "    <tr>\n",
       "      <th>1</th>\n",
       "      <td>177</td>\n",
       "    </tr>\n",
       "    <tr>\n",
       "      <th>2</th>\n",
       "      <td>220</td>\n",
       "    </tr>\n",
       "    <tr>\n",
       "      <th>3</th>\n",
       "      <td>188</td>\n",
       "    </tr>\n",
       "    <tr>\n",
       "      <th>4</th>\n",
       "      <td>219</td>\n",
       "    </tr>\n",
       "    <tr>\n",
       "      <th>...</th>\n",
       "      <td>...</td>\n",
       "    </tr>\n",
       "    <tr>\n",
       "      <th>95</th>\n",
       "      <td>163</td>\n",
       "    </tr>\n",
       "    <tr>\n",
       "      <th>96</th>\n",
       "      <td>267</td>\n",
       "    </tr>\n",
       "    <tr>\n",
       "      <th>97</th>\n",
       "      <td>244</td>\n",
       "    </tr>\n",
       "    <tr>\n",
       "      <th>98</th>\n",
       "      <td>141</td>\n",
       "    </tr>\n",
       "    <tr>\n",
       "      <th>99</th>\n",
       "      <td>185</td>\n",
       "    </tr>\n",
       "  </tbody>\n",
       "</table>\n",
       "<p>100 rows × 1 columns</p>\n",
       "</div>"
      ],
      "text/plain": [
       "    Horsepower\n",
       "0          119\n",
       "1          177\n",
       "2          220\n",
       "3          188\n",
       "4          219\n",
       "..         ...\n",
       "95         163\n",
       "96         267\n",
       "97         244\n",
       "98         141\n",
       "99         185\n",
       "\n",
       "[100 rows x 1 columns]"
      ]
     },
     "execution_count": 6,
     "metadata": {},
     "output_type": "execute_result"
    }
   ],
   "source": [
    "X"
   ]
  },
  {
   "cell_type": "code",
   "execution_count": 7,
   "id": "73d2edde",
   "metadata": {},
   "outputs": [
    {
     "data": {
      "text/plain": [
       "0     30\n",
       "1     25\n",
       "2     24\n",
       "3     24\n",
       "4     24\n",
       "      ..\n",
       "95    28\n",
       "96    16\n",
       "97    20\n",
       "98    30\n",
       "99    26\n",
       "Name: Fuel Economy, Length: 100, dtype: int64"
      ]
     },
     "execution_count": 7,
     "metadata": {},
     "output_type": "execute_result"
    }
   ],
   "source": [
    "Y"
   ]
  },
  {
   "cell_type": "code",
   "execution_count": 8,
   "id": "3622a4c6",
   "metadata": {},
   "outputs": [],
   "source": [
    "# splitting into train and test data\n",
    "\n",
    "from sklearn.model_selection import train_test_split\n",
    "X_train, X_test, Y_train, Y_test = train_test_split(X,Y,test_size=0.3,random_state=2)"
   ]
  },
  {
   "cell_type": "markdown",
   "id": "8204dd08",
   "metadata": {},
   "source": [
    "# Simple Linear Regression formula:\n",
    "\n",
    "y = mx + c     (y : output, m : slope, x : input, c : x-intercept) \n"
   ]
  },
  {
   "cell_type": "code",
   "execution_count": 9,
   "id": "c24d6446",
   "metadata": {},
   "outputs": [],
   "source": [
    "from sklearn.linear_model import LinearRegression"
   ]
  },
  {
   "cell_type": "code",
   "execution_count": 10,
   "id": "5afdc56c",
   "metadata": {},
   "outputs": [],
   "source": [
    "model = LinearRegression()"
   ]
  },
  {
   "cell_type": "code",
   "execution_count": 11,
   "id": "1e646ce5",
   "metadata": {},
   "outputs": [
    {
     "data": {
      "text/plain": [
       "LinearRegression()"
      ]
     },
     "execution_count": 11,
     "metadata": {},
     "output_type": "execute_result"
    }
   ],
   "source": [
    "# Model fitting\n",
    "\n",
    "model.fit(X_train, Y_train)"
   ]
  },
  {
   "cell_type": "code",
   "execution_count": 12,
   "id": "3ec71448",
   "metadata": {},
   "outputs": [
    {
     "name": "stdout",
     "output_type": "stream",
     "text": [
      "Coefficient =  [-0.0760016]\n",
      "Intercept =  39.83354106214085\n"
     ]
    }
   ],
   "source": [
    "print(\"Coefficient = \", model.coef_)        # slope\n",
    "print(\"Intercept = \", model.intercept_)     # x-intercept"
   ]
  },
  {
   "cell_type": "code",
   "execution_count": 13,
   "id": "32973522",
   "metadata": {},
   "outputs": [],
   "source": [
    "# Prediction on test data\n",
    "\n",
    "Y_pred = model.predict(X_test)"
   ]
  },
  {
   "cell_type": "code",
   "execution_count": 14,
   "id": "27695ffe",
   "metadata": {},
   "outputs": [
    {
     "data": {
      "text/plain": [
       "Text(0, 0.5, 'Fuel Economy')"
      ]
     },
     "execution_count": 14,
     "metadata": {},
     "output_type": "execute_result"
    },
    {
     "data": {
      "image/png": "[encoded data removed]",
      "text/plain": [
       "<Figure size 432x288 with 1 Axes>"
      ]
     },
     "metadata": {
      "needs_background": "light"
     },
     "output_type": "display_data"
    }
   ],
   "source": [
    "# Plotting regression line\n",
    "\n",
    "plt.scatter(df['Horsepower'],df['Fuel Economy'])\n",
    "plt.plot(X_test,Y_pred, color='red')\n",
    "plt.xlabel('Horsepower')\n",
    "plt.ylabel('Fuel Economy')"
   ]
  },
  {
   "cell_type": "code",
   "execution_count": 15,
   "id": "e4006dab",
   "metadata": {},
   "outputs": [],
   "source": [
    "# Checking accuracy of model\n",
    "\n",
    "from sklearn.metrics import mean_absolute_error, mean_squared_error, r2_score"
   ]
  },
  {
   "cell_type": "markdown",
   "id": "0af56ad8",
   "metadata": {},
   "source": [
    "Accuracy metrics :-\n",
    "\n",
    "Mean absolute error = |actual y1 - predicted y1| + |actual y2 - predicted y2| + ....... + |actual yn - predicted yn| \n",
    "                      _______________________________________________________________________________________________\n",
    "                                                      n\n",
    "                                                      \n",
    "                                                      \n",
    "Mean squared error = (actual y1 - predicted y1)^2 + (actual y2 - predicted y2)^2 + .... + (actual yn - predicted yn)^2 \n",
    "                      _______________________________________________________________________________________________\n",
    "                                                      n\n",
    "                                                      \n",
    "                                                      \n",
    "Root mean square error = (Mean squared error)^(1/2)\n",
    "\n",
    "\n",
    "R2 score = 1 - (SSR/SSM)\n",
    "   \n",
    "   \n",
    "Adjusted R2 score = 1 - (1 - R2)(n - 1)\n",
    "                         ______________\n",
    "                         n - 1 - k"
   ]
  },
  {
   "cell_type": "code",
   "execution_count": 16,
   "id": "d665f3e1",
   "metadata": {},
   "outputs": [
    {
     "name": "stdout",
     "output_type": "stream",
     "text": [
      "Mean absolute error =  1.2967623204878531\n"
     ]
    }
   ],
   "source": [
    "print(\"Mean absolute error = \", mean_absolute_error(Y_test,Y_pred))"
   ]
  },
  {
   "cell_type": "code",
   "execution_count": 17,
   "id": "915e2921",
   "metadata": {},
   "outputs": [
    {
     "name": "stdout",
     "output_type": "stream",
     "text": [
      "Mean squared error =  2.3960312608147607\n"
     ]
    }
   ],
   "source": [
    "print(\"Mean squared error = \", mean_squared_error(Y_test,Y_pred))"
   ]
  },
  {
   "cell_type": "code",
   "execution_count": 18,
   "id": "2e605923",
   "metadata": {},
   "outputs": [
    {
     "name": "stdout",
     "output_type": "stream",
     "text": [
      "Root Mean squared error =  1.547911903441136\n"
     ]
    }
   ],
   "source": [
    "print(\"Root Mean squared error = \", np.sqrt(mean_squared_error(Y_test,Y_pred)))"
   ]
  },
  {
   "cell_type": "code",
   "execution_count": 19,
   "id": "a4bc8bba",
   "metadata": {},
   "outputs": [
    {
     "name": "stdout",
     "output_type": "stream",
     "text": [
      "R2 score =  0.8502064368759874\n"
     ]
    }
   ],
   "source": [
    "r2 = r2_score(Y_test,Y_pred)\n",
    "print(\"R2 score = \", r2)"
   ]
  },
  {
   "cell_type": "code",
   "execution_count": 20,
   "id": "a1281806",
   "metadata": {},
   "outputs": [
    {
     "data": {
      "text/plain": [
       "(30, 1)"
      ]
     },
     "execution_count": 20,
     "metadata": {},
     "output_type": "execute_result"
    }
   ],
   "source": [
    "# Adjusted R2 score\n",
    "\n",
    "X_test.shape"
   ]
  },
  {
   "cell_type": "code",
   "execution_count": 21,
   "id": "62019a3f",
   "metadata": {},
   "outputs": [
    {
     "name": "stdout",
     "output_type": "stream",
     "text": [
      "Adjusted R2 score =  0.8448566667644155\n"
     ]
    }
   ],
   "source": [
    "adj_r2 = 1 - ((1-r2)*(30-1)/(30-1-1))\n",
    "print(\"Adjusted R2 score = \", adj_r2)"
   ]
  }
 ],
 "metadata": {
  "kernelspec": {
   "display_name": "Python 3",
   "language": "python",
   "name": "python3"
  },
  "language_info": {
   "codemirror_mode": {
    "name": "ipython",
    "version": 3
   },
   "file_extension": ".py",
   "mimetype": "text/x-python",
   "name": "python",
   "nbconvert_exporter": "python",
   "pygments_lexer": "ipython3",
   "version": "3.8.8"
  }
 },
 "nbformat": 4,
 "nbformat_minor": 5
}
